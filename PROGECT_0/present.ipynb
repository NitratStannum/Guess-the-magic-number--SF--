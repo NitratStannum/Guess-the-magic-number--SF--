{
 "cells": [
  {
   "cell_type": "markdown",
   "metadata": {},
   "source": [
    "# Игра \"Угадай число\"\n",
    "___"
   ]
  },
  {
   "cell_type": "markdown",
   "metadata": {},
   "source": [
    "#### Описание"
   ]
  },
  {
   "cell_type": "markdown",
   "metadata": {},
   "source": [
    "Компьютер генерирует числа случайным образом. Затем алгоритм пытается угадать загаданное компьютером число. Результат работы алгоритма - среднее количество попыток, необходимых для угадывания, за N повторений."
   ]
  },
  {
   "cell_type": "markdown",
   "metadata": {},
   "source": [
    "#### Как работает ?"
   ]
  },
  {
   "cell_type": "markdown",
   "metadata": {},
   "source": [
    "Для работы алгоритма было создано две функции, вынесенные в отдельные файлы. \n",
    "\n",
    "1. **progect_game** - генерирует случайное число до тех пор, пока оно не окажется равным введенному числу в аргументе\n",
    "\n",
    "2. **progect_median_count_surmise** - создает список из N случайных чисел (по умолчанию N = 1000) и подставляет их в функцию progect_game, записывая базу данных из количества попыток, затраченных алгоритмом для отгадывания. Среднее арифметическое созданной базы - это результат работы алгоритма."
   ]
  },
  {
   "cell_type": "markdown",
   "metadata": {},
   "source": [
    "*`Для демонстрации работы алгоритмов импортируем функции из файлов`*"
   ]
  },
  {
   "cell_type": "code",
   "execution_count": 6,
   "metadata": {},
   "outputs": [],
   "source": [
    "from progect_game import surmise_number\n",
    "from progect_median_count_surmise import median_count_surmise"
   ]
  },
  {
   "cell_type": "markdown",
   "metadata": {},
   "source": [
    "В задании по разработке алгоритма стояла задача сократить среднее количество попыток, требуемых для отгадывания числа. Выполнение этой задачи реализовано при помощи введения метода \"горячо - холодно\" в функцию surmise_number.\n",
    "\n",
    "*`Количество попыток до введения метода \"горячо - холодно\":`*"
   ]
  },
  {
   "cell_type": "code",
   "execution_count": 9,
   "metadata": {},
   "outputs": [
    {
     "name": "stdout",
     "output_type": "stream",
     "text": [
      "Число угадано за 211 попыток\n"
     ]
    }
   ],
   "source": [
    "import numpy as np\n",
    "\n",
    "sur_num = 16 # загаданное число\n",
    "count = 0\n",
    "\n",
    "while True:\n",
    "        random_num = np.random.randint(1, 101)\n",
    "        \n",
    "        if random_num != sur_num:\n",
    "                count += 1\n",
    "        else:\n",
    "                print(f'Число угадано за {count} попыток')\n",
    "                break"
   ]
  },
  {
   "cell_type": "markdown",
   "metadata": {},
   "source": [
    "*`Количество попыток после введения метода \"горячо - холодно\":`*"
   ]
  },
  {
   "cell_type": "code",
   "execution_count": 14,
   "metadata": {},
   "outputs": [
    {
     "name": "stdout",
     "output_type": "stream",
     "text": [
      "Число угадано за 4 попыток\n"
     ]
    }
   ],
   "source": [
    "print(f'Число угадано за {surmise_number(16)} попыток')"
   ]
  },
  {
   "cell_type": "markdown",
   "metadata": {},
   "source": [
    "Таким образом удалось сократить количество попыток ***в среднем*** до 7."
   ]
  },
  {
   "cell_type": "code",
   "execution_count": 43,
   "metadata": {},
   "outputs": [
    {
     "name": "stdout",
     "output_type": "stream",
     "text": [
      "Среднее количество попыток для отгадывания: 7\n",
      "7\n"
     ]
    }
   ],
   "source": [
    "print(median_count_surmise(surmise_number), 1000)"
   ]
  }
 ],
 "metadata": {
  "kernelspec": {
   "display_name": "Python 3.10.2 64-bit",
   "language": "python",
   "name": "python3"
  },
  "language_info": {
   "codemirror_mode": {
    "name": "ipython",
    "version": 3
   },
   "file_extension": ".py",
   "mimetype": "text/x-python",
   "name": "python",
   "nbconvert_exporter": "python",
   "pygments_lexer": "ipython3",
   "version": "3.10.2"
  },
  "orig_nbformat": 4,
  "vscode": {
   "interpreter": {
    "hash": "aee8b7b246df8f9039afb4144a1f6fd8d2ca17a180786b69acc140d282b71a49"
   }
  }
 },
 "nbformat": 4,
 "nbformat_minor": 2
}
